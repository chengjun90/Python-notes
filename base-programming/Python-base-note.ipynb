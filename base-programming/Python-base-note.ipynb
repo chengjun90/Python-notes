{
 "cells": [
  {
   "cell_type": "markdown",
   "metadata": {},
   "source": [
    "# 前言"
   ]
  },
  {
   "cell_type": "markdown",
   "metadata": {},
   "source": [
    "## 笔记作者\n",
    "实证研究小⻘年，日常研究和关注经济、金融与会计等领域的问题，主要采用计量经济学和其他数据分析手法撰写学术论\n",
    "文和研究报告。研究之余，泛读文史哲，关注自由与开源动态。在日常研究和工作中，喜欢选用自由和开源工具，喜欢使用最新的软件工具。\n",
    "\n",
    "邮箱：cheng081@qq.com\n",
    "\n",
    "Github：https://github.com/chengjun90\n",
    "\n",
    "欢迎交流。"
   ]
  },
  {
   "cell_type": "markdown",
   "metadata": {},
   "source": [
    "## 笔记目的\n",
    "本学习笔记主要为~~特定领域的数据科学~~（实证研究）服务，力求**简明够用即可**，用于构建知识体系，快速浏览全局。\n",
    "\n",
    "更多的细节都是干中搜:\n",
    "    \n",
    "- 直接谷歌、百度\n",
    "- 查找Python官方手册"
   ]
  },
  {
   "cell_type": "markdown",
   "metadata": {},
   "source": [
    "## Python简介\n",
    "Python是非常简洁易懂的通用编程语言。Python适应于多个应用领域，在数据科学、机器学习和深度学习等领域得到广泛的应用。\n",
    "\n",
    "Python代码简洁、易读，上手快。缺点之一是性能不如C/C++等语言。"
   ]
  },
  {
   "cell_type": "markdown",
   "metadata": {},
   "source": [
    "## 笔记的系统环境"
   ]
  },
  {
   "cell_type": "code",
   "execution_count": 1,
   "metadata": {},
   "outputs": [
    {
     "data": {
      "text/plain": [
       "'操作系统：Windows-10-10.0.17134-SP0;Python版本：3.7.0'"
      ]
     },
     "execution_count": 1,
     "metadata": {},
     "output_type": "execute_result"
    }
   ],
   "source": [
    "import sys\n",
    "import platform\n",
    "f'操作系统：{platform.platform()};Python版本：{sys.version[0:5]}'"
   ]
  },
  {
   "cell_type": "code",
   "execution_count": 2,
   "metadata": {},
   "outputs": [],
   "source": [
    "from IPython.core.interactiveshell import InteractiveShell\n",
    "InteractiveShell.ast_node_interactivity = \"all\""
   ]
  },
  {
   "cell_type": "markdown",
   "metadata": {},
   "source": [
    "# 变量与数据类型"
   ]
  },
  {
   "cell_type": "markdown",
   "metadata": {},
   "source": [
    "## 变量\n",
    "Python是动态类型，赋值时无需声明类型。\n",
    "变量可以看作名称（id）与值的关联。"
   ]
  },
  {
   "cell_type": "markdown",
   "metadata": {},
   "source": [
    "### 技巧"
   ]
  },
  {
   "cell_type": "markdown",
   "metadata": {},
   "source": [
    "解包"
   ]
  },
  {
   "cell_type": "code",
   "execution_count": 3,
   "metadata": {},
   "outputs": [
    {
     "data": {
      "text/plain": [
       "'h'"
      ]
     },
     "execution_count": 3,
     "metadata": {},
     "output_type": "execute_result"
    },
    {
     "data": {
      "text/plain": [
       "'i'"
      ]
     },
     "execution_count": 3,
     "metadata": {},
     "output_type": "execute_result"
    },
    {
     "data": {
      "text/plain": [
       "'哈哈'"
      ]
     },
     "execution_count": 3,
     "metadata": {},
     "output_type": "execute_result"
    },
    {
     "data": {
      "text/plain": [
       "'呵呵'"
      ]
     },
     "execution_count": 3,
     "metadata": {},
     "output_type": "execute_result"
    }
   ],
   "source": [
    "a,b='hi'\n",
    "a\n",
    "b\n",
    "a,b=[\"哈哈\",\"呵呵\"]\n",
    "a\n",
    "b"
   ]
  },
  {
   "cell_type": "markdown",
   "metadata": {},
   "source": [
    "多个变量赋值"
   ]
  },
  {
   "cell_type": "code",
   "execution_count": 4,
   "metadata": {},
   "outputs": [
    {
     "data": {
      "text/plain": [
       "'呵呵'"
      ]
     },
     "execution_count": 4,
     "metadata": {},
     "output_type": "execute_result"
    },
    {
     "data": {
      "text/plain": [
       "'喝喝'"
      ]
     },
     "execution_count": 4,
     "metadata": {},
     "output_type": "execute_result"
    },
    {
     "data": {
      "text/plain": [
       "'哈哈'"
      ]
     },
     "execution_count": 4,
     "metadata": {},
     "output_type": "execute_result"
    }
   ],
   "source": [
    "a,b,c=\"呵呵\",\"喝喝\",\"哈哈\"\n",
    "a\n",
    "b\n",
    "c"
   ]
  },
  {
   "cell_type": "markdown",
   "metadata": {},
   "source": [
    "交换值"
   ]
  },
  {
   "cell_type": "code",
   "execution_count": 5,
   "metadata": {},
   "outputs": [
    {
     "data": {
      "text/plain": [
       "2"
      ]
     },
     "execution_count": 5,
     "metadata": {},
     "output_type": "execute_result"
    },
    {
     "data": {
      "text/plain": [
       "1"
      ]
     },
     "execution_count": 5,
     "metadata": {},
     "output_type": "execute_result"
    }
   ],
   "source": [
    "a=1\n",
    "b=2\n",
    "a,b=b,a\n",
    "a\n",
    "b"
   ]
  },
  {
   "cell_type": "markdown",
   "metadata": {},
   "source": [
    "## 基本数据类型\n"
   ]
  },
  {
   "cell_type": "markdown",
   "metadata": {},
   "source": [
    "### 数值\n",
    "整型int和浮点型float。\n",
    "\n",
    "高精度使用decimal模块。\n",
    "\n",
    "Python内置对复数的计算，对复数处理的数学函数在模块cmath中。"
   ]
  },
  {
   "cell_type": "code",
   "execution_count": 6,
   "metadata": {},
   "outputs": [
    {
     "data": {
      "text/plain": [
       "int"
      ]
     },
     "execution_count": 6,
     "metadata": {},
     "output_type": "execute_result"
    },
    {
     "data": {
      "text/plain": [
       "float"
      ]
     },
     "execution_count": 6,
     "metadata": {},
     "output_type": "execute_result"
    },
    {
     "data": {
      "text/plain": [
       "complex"
      ]
     },
     "execution_count": 6,
     "metadata": {},
     "output_type": "execute_result"
    }
   ],
   "source": [
    "type(1)\n",
    "type(1.1)\n",
    "type(1+2j)"
   ]
  },
  {
   "cell_type": "code",
   "execution_count": 7,
   "metadata": {},
   "outputs": [
    {
     "data": {
      "text/plain": [
       "(-4+7j)"
      ]
     },
     "execution_count": 7,
     "metadata": {},
     "output_type": "execute_result"
    }
   ],
   "source": [
    "(1+2j)*(2+3j)"
   ]
  },
  {
   "cell_type": "markdown",
   "metadata": {},
   "source": [
    "### 字符\n",
    "\n",
    "Python中字符串不可修改，只能生成新的字符串。\n",
    "\n",
    "字符串可以使用单引号、双引号来标记。字符串是多行的时候使用三引号。"
   ]
  },
  {
   "cell_type": "markdown",
   "metadata": {},
   "source": [
    "字符串格式化，直接使用f方法好了。"
   ]
  },
  {
   "cell_type": "code",
   "execution_count": 8,
   "metadata": {},
   "outputs": [
    {
     "data": {
      "text/plain": [
       "'我喜欢python, 学习了3年'"
      ]
     },
     "execution_count": 8,
     "metadata": {},
     "output_type": "execute_result"
    }
   ],
   "source": [
    "# printf style\n",
    "'我喜欢%s, 学习了%d年'%('python', 3)"
   ]
  },
  {
   "cell_type": "code",
   "execution_count": 9,
   "metadata": {},
   "outputs": [
    {
     "data": {
      "text/plain": [
       "'我喜欢python, 学习了3年'"
      ]
     },
     "execution_count": 9,
     "metadata": {},
     "output_type": "execute_result"
    },
    {
     "data": {
      "text/plain": [
       "'我喜欢python, 学习了3年'"
      ]
     },
     "execution_count": 9,
     "metadata": {},
     "output_type": "execute_result"
    }
   ],
   "source": [
    "# format方法\n",
    "'我喜欢{}, 学习了{}年'.format('python',3)\n",
    "'我喜欢{a}, 学习了{b}年'.format(b=3,a='python')"
   ]
  },
  {
   "cell_type": "code",
   "execution_count": 10,
   "metadata": {},
   "outputs": [
    {
     "data": {
      "text/plain": [
       "'我喜欢Python, 学习了3年'"
      ]
     },
     "execution_count": 10,
     "metadata": {},
     "output_type": "execute_result"
    }
   ],
   "source": [
    "# f方法\n",
    "a=\"Python\"\n",
    "b=3\n",
    "f'我喜欢{a}, 学习了{b}年'"
   ]
  },
  {
   "cell_type": "markdown",
   "metadata": {},
   "source": [
    "### 逻辑值\n",
    "\n",
    "逻辑值仅包括True/False两个,用来配合if/while等语句做条件判断,其它数据类型可以转换为逻辑值。\n",
    "\n",
    "标准的布尔运算符为and , or, not。"
   ]
  },
  {
   "cell_type": "markdown",
   "metadata": {},
   "source": [
    "## 基本数据类型转换\n",
    "\n",
    "| 方法                 | 说明                                                |\n",
    "|----------------------|-----------------------------------------------------|\n",
    "| int(x[,base])        | 将x转换为一个整数                                   |\n",
    "| float(x)             | 将x转换到一个浮点数                                 |\n",
    "| complex(real[,imag]) | 创建一个复数                                        |\n",
    "| str(x)               | 将对象x转换为字符串                                 |\n",
    "| repr(x)              | 将对象x转换为表达式字符串                           |\n",
    "| eval(str)            | 用来计算在字符串中的有效Python表达式,并返回一个对象 |\n",
    "| tuple(s)             | 将序列s转换为一个元组                               |\n",
    "| list(s)              | 将序列s转换为一个列表                               |\n",
    "| chr(x)               | 将一个整数转换为一个字符                            |\n",
    "| unichr(x)            | 将一个整数转换为Unicode字符                         |\n",
    "| ord(x)               | 将一个字符转换为它的整数值                          |\n",
    "| hex(x)               | 将一个整数转换为一个十六进制字符串                  |\n",
    "| oct(x)               | 将一个整数转换为一个八进制字符串                    |"
   ]
  },
  {
   "cell_type": "markdown",
   "metadata": {},
   "source": [
    "## 字节和Unicode\n",
    "\n",
    "在Python 3及以上版本中，字符串类型是Unicode编码。\n",
    "\n",
    "可以用encode将这个Unicode字符串编码为UTF-8："
   ]
  },
  {
   "cell_type": "code",
   "execution_count": 11,
   "metadata": {},
   "outputs": [
    {
     "data": {
      "text/plain": [
       "b'\\xe5\\x91\\xb5\\xe5\\x91\\xb5'"
      ]
     },
     "execution_count": 11,
     "metadata": {},
     "output_type": "execute_result"
    },
    {
     "data": {
      "text/plain": [
       "bytes"
      ]
     },
     "execution_count": 11,
     "metadata": {},
     "output_type": "execute_result"
    },
    {
     "data": {
      "text/plain": [
       "'呵呵'"
      ]
     },
     "execution_count": 11,
     "metadata": {},
     "output_type": "execute_result"
    }
   ],
   "source": [
    "var=\"呵呵\"\n",
    "var.encode('utf-8')\n",
    "type(var.encode('utf-8'))\n",
    "var.encode('utf-8').decode('utf-8')"
   ]
  },
  {
   "cell_type": "markdown",
   "metadata": {},
   "source": [
    "# 数据结构\n",
    "数据结构是用来存储一系列相关数据的集合。\n",
    "\n",
    "数据结构也可以称之为容器。Python提供了许多高效的容器类型，其中可以存储对象的集合。\n",
    "\n",
    "Python中有四种内置的数据结构：列表（List）、元组（Tuple）、字典（Dictionary）和集合（Set）。\n",
    "\n",
    "- 列表（list）：列表则可以删除、 添加、 替换、 重排序列中的元素。可变类型。列表是异质的，这意味着列表中的数据不必要同一个类。\n",
    "- 元组（Tuple）：元组是不可变类型。\n",
    "- 字典（Dictionary）：字典是通过键值key来索引元素value，而不是象列表是通过连续的整数来索引。字典是可变类型，可以添加、删除、替换元素。\n",
    "- 集合：集合是不重复元素的无序组合。用set()创建空集，可用set()从其它序列转换生成集合。"
   ]
  },
  {
   "cell_type": "code",
   "execution_count": 12,
   "metadata": {},
   "outputs": [
    {
     "data": {
      "text/plain": [
       "['a', 'b', 'b', 123]"
      ]
     },
     "execution_count": 12,
     "metadata": {},
     "output_type": "execute_result"
    }
   ],
   "source": [
    "mylist=['a','b','b',123]\n",
    "mylist"
   ]
  },
  {
   "cell_type": "code",
   "execution_count": 13,
   "metadata": {},
   "outputs": [
    {
     "data": {
      "text/plain": [
       "('a', 'b', 'b', 123)"
      ]
     },
     "execution_count": 13,
     "metadata": {},
     "output_type": "execute_result"
    }
   ],
   "source": [
    "mytuple=('a','b','b',123)\n",
    "mytuple"
   ]
  },
  {
   "cell_type": "code",
   "execution_count": 14,
   "metadata": {},
   "outputs": [
    {
     "data": {
      "text/plain": [
       "{'name': 'zhangsan', 'age': 18}"
      ]
     },
     "execution_count": 14,
     "metadata": {},
     "output_type": "execute_result"
    }
   ],
   "source": [
    "mydict={\"name\":\"zhangsan\",\"age\":18}\n",
    "mydict"
   ]
  },
  {
   "cell_type": "code",
   "execution_count": 15,
   "metadata": {},
   "outputs": [
    {
     "data": {
      "text/plain": [
       "{1, 2, 3}"
      ]
     },
     "execution_count": 15,
     "metadata": {},
     "output_type": "execute_result"
    }
   ],
   "source": [
    "myset = {1,2,1,3}\n",
    "myset"
   ]
  },
  {
   "cell_type": "markdown",
   "metadata": {},
   "source": [
    "Python 3.7引入了dataclass 。\n",
    "\n",
    "dataclass一个简单的数据容器，支持通过的对象属性进行访问。"
   ]
  },
  {
   "cell_type": "code",
   "execution_count": 16,
   "metadata": {},
   "outputs": [
    {
     "data": {
      "text/plain": [
       "'优秀'"
      ]
     },
     "execution_count": 16,
     "metadata": {},
     "output_type": "execute_result"
    }
   ],
   "source": [
    "from dataclasses import dataclass\n",
    "from typing import Any\n",
    "\n",
    "@dataclass\n",
    "class Student:\n",
    "    name: str\n",
    "    age: int=18\n",
    "    score: Any=\"\"\n",
    "    \n",
    "    def level(self,hour):\n",
    "        if self.score/hour>1:\n",
    "            return \"优秀\"\n",
    "        else:\n",
    "            return \"其他\"\n",
    "        \n",
    "lisi = Student(name=\"李四\",score=92.5)\n",
    "lisi.level(20)"
   ]
  },
  {
   "cell_type": "markdown",
   "metadata": {},
   "source": [
    "# 判断与循环"
   ]
  },
  {
   "cell_type": "markdown",
   "metadata": {},
   "source": [
    "## 判断\n",
    "if-elif-else语句"
   ]
  },
  {
   "cell_type": "code",
   "execution_count": 17,
   "metadata": {},
   "outputs": [
    {
     "name": "stdout",
     "output_type": "stream",
     "text": [
      "结束\n"
     ]
    }
   ],
   "source": [
    "import random\n",
    "a=random.gauss(0,1)\n",
    "\n",
    "if a>=1.65:\n",
    "    print(\"真大\")\n",
    "elif a>0:\n",
    "    print(\"还行\")\n",
    "else:\n",
    "    print(\"结束\")"
   ]
  },
  {
   "cell_type": "markdown",
   "metadata": {},
   "source": [
    "三元操作符是 if-else 语句也就是条件操作符的一个快捷方式：\n",
    "\n",
    "[表达式为真的返回值] if [表达式] else [表达式为假的返回值]"
   ]
  },
  {
   "cell_type": "code",
   "execution_count": 18,
   "metadata": {},
   "outputs": [
    {
     "data": {
      "text/plain": [
       "'还行'"
      ]
     },
     "execution_count": 18,
     "metadata": {},
     "output_type": "execute_result"
    }
   ],
   "source": [
    "a=random.gauss(0,1)\n",
    "\n",
    "\"还行\" if a>=0 else \"结束\""
   ]
  },
  {
   "cell_type": "markdown",
   "metadata": {
    "toc-hr-collapsed": false
   },
   "source": [
    "## 循环\n",
    "Python 提供了 for 循环和 while 循环。\n",
    "\n",
    "迭代循环for：\n",
    "\n",
    "```python\n",
    "for <变量> in <可迭代对象>:\n",
    "    <语句块>\n",
    "    break #跳出循环\n",
    "    continue #略过余下循环语句\n",
    "else: #迭代完毕，则执行\n",
    "    <语句块>\n",
    "```\n",
    "\n",
    "while：\n",
    "```python\n",
    "while 条件:\n",
    "    语句块\n",
    "    break # 跳出循环\n",
    "    continue #跳出余下的语句块\n",
    "    语句块\n",
    "else: #条件不满足则跳出，执行以下语句块\n",
    "    语句块\n",
    "```\n",
    "\n",
    "\n",
    "控制循环的语句：\n",
    "\n",
    "|循环控制语句|描述|\n",
    "|------|------|\n",
    "|break|在语句块执行过程中终止循环，并且跳出整个循环|\n",
    "|continue|在语句块执行过程中终止当前循环，跳出该次循环，执行下一次循环|\n",
    "|pass|pass 是空语句，是为了保持程序结构的完整性|"
   ]
  },
  {
   "cell_type": "code",
   "execution_count": 19,
   "metadata": {},
   "outputs": [
    {
     "name": "stdout",
     "output_type": "stream",
     "text": [
      "的\n",
      "箱\n"
     ]
    }
   ],
   "source": [
    "s=\"我的数据分析工具箱\"\n",
    "for  i in \"的箱\":\n",
    "    if i in s:\n",
    "        print(i)"
   ]
  },
  {
   "cell_type": "code",
   "execution_count": 20,
   "metadata": {},
   "outputs": [
    {
     "name": "stdout",
     "output_type": "stream",
     "text": [
      "0 这是\n",
      "1 一个\n",
      "2 测试\n",
      "100 这是\n",
      "101 一个\n",
      "102 测试\n"
     ]
    }
   ],
   "source": [
    "list1 = [\"这是\", \"一个\", \"测试\"]\n",
    "\n",
    "for index, item in enumerate(list1):\n",
    "    print(index, item)\n",
    "\n",
    "for index, item in enumerate(list1, 100):\n",
    "    print(index, item)"
   ]
  },
  {
   "cell_type": "code",
   "execution_count": 21,
   "metadata": {},
   "outputs": [
    {
     "data": {
      "text/plain": [
       "<zip at 0x1903cffcc88>"
      ]
     },
     "execution_count": 21,
     "metadata": {},
     "output_type": "execute_result"
    },
    {
     "data": {
      "text/plain": [
       "[(1, 'a'), (2, 'b'), (3, 'c')]"
      ]
     },
     "execution_count": 21,
     "metadata": {},
     "output_type": "execute_result"
    },
    {
     "name": "stdout",
     "output_type": "stream",
     "text": [
      "1 a\n",
      "2 b\n",
      "3 c\n"
     ]
    }
   ],
   "source": [
    "a=[1,2,3]\n",
    "b=[\"a\",\"b\",\"c\"]\n",
    "c=zip(a,b)\n",
    "c\n",
    "list(c)\n",
    "\n",
    "for i,j in zip(a,b):\n",
    "    print(i,j)"
   ]
  },
  {
   "cell_type": "code",
   "execution_count": 22,
   "metadata": {},
   "outputs": [
    {
     "name": "stdout",
     "output_type": "stream",
     "text": [
      "4\n",
      "3\n",
      "2\n"
     ]
    }
   ],
   "source": [
    "a=4\n",
    "\n",
    "while a:\n",
    "    print(a)\n",
    "    if a<3:\n",
    "        break\n",
    "    a=a-1\n",
    "else:\n",
    "    print(\"结束\")"
   ]
  },
  {
   "cell_type": "markdown",
   "metadata": {},
   "source": [
    "## 运算符：\n",
    "Python语言支持以下类型运算符：\n",
    "\n",
    "- 算术运算符\n",
    "- 比较运算符\n",
    "- 赋值运算符\n",
    "- 逻辑运算符：not，and，or\n",
    "- 成员操作符：in，not in\n",
    "- 身份运算符：is"
   ]
  },
  {
   "cell_type": "markdown",
   "metadata": {},
   "source": [
    "# 高级特性"
   ]
  },
  {
   "cell_type": "markdown",
   "metadata": {},
   "source": [
    "## 切片\n",
    "取一个list或tuple的部分元素是非常常见的操作。比如，一个list如下："
   ]
  },
  {
   "cell_type": "code",
   "execution_count": 23,
   "metadata": {},
   "outputs": [
    {
     "data": {
      "text/plain": [
       "['c', 'd']"
      ]
     },
     "execution_count": 23,
     "metadata": {},
     "output_type": "execute_result"
    },
    {
     "data": {
      "text/plain": [
       "'常见的操作。'"
      ]
     },
     "execution_count": 23,
     "metadata": {},
     "output_type": "execute_result"
    }
   ],
   "source": [
    "L = ['a', 'b', 'c', 'd', 'e']\n",
    "L[2:4]\n",
    "\n",
    "\n",
    "strs=\"取一个list或tuple的部分元素是非常常见的操作。\"\n",
    "strs[-6::]"
   ]
  },
  {
   "cell_type": "markdown",
   "metadata": {},
   "source": [
    "## 迭代器"
   ]
  },
  {
   "cell_type": "markdown",
   "metadata": {},
   "source": [
    "## 生成器\n",
    "可以节约内存。"
   ]
  },
  {
   "cell_type": "code",
   "execution_count": 24,
   "metadata": {},
   "outputs": [
    {
     "data": {
      "text/plain": [
       "<generator object <genexpr> at 0x000001903CFEC840>"
      ]
     },
     "execution_count": 24,
     "metadata": {},
     "output_type": "execute_result"
    },
    {
     "name": "stdout",
     "output_type": "stream",
     "text": [
      "0\n",
      "2\n",
      "4\n",
      "6\n",
      "8\n",
      "10\n"
     ]
    }
   ],
   "source": [
    "a=[0,1,2,3,4,5]\n",
    "a2=(2*i for i in a)\n",
    "a2\n",
    "for i in a2:\n",
    "    print(i)"
   ]
  },
  {
   "cell_type": "markdown",
   "metadata": {},
   "source": [
    "## 推导式\n",
    "\n",
    "可以生成list、dict和set。\n",
    "\n",
    "- 代码简洁\n",
    "- 可读性强\n",
    "\n",
    "\n",
    "[表达式 for 变量 in 可迭代对象 if 逻辑条件]\n",
    "\n",
    "{键值表达式:元素表达式 for 变量 in 可迭代对象 if 逻辑条件}\n",
    "\n",
    "{元素表达式 for 变量 in 可迭代对象 if 逻辑条件}\n"
   ]
  },
  {
   "cell_type": "code",
   "execution_count": 25,
   "metadata": {},
   "outputs": [
    {
     "data": {
      "text/plain": [
       "[100, 102, 104]"
      ]
     },
     "execution_count": 25,
     "metadata": {},
     "output_type": "execute_result"
    }
   ],
   "source": [
    "a=[0,1,2,3,4,5]\n",
    "[i+100 for i in a if i%2==0]"
   ]
  },
  {
   "cell_type": "code",
   "execution_count": 26,
   "metadata": {},
   "outputs": [
    {
     "data": {
      "text/plain": [
       "{'推': 0, '导': 1, '式': 2}"
      ]
     },
     "execution_count": 26,
     "metadata": {},
     "output_type": "execute_result"
    }
   ],
   "source": [
    "{k:v for k,v in zip('推导式',range(3))}"
   ]
  },
  {
   "cell_type": "markdown",
   "metadata": {},
   "source": [
    "# 函数式编程"
   ]
  },
  {
   "cell_type": "code",
   "execution_count": 27,
   "metadata": {},
   "outputs": [
    {
     "data": {
      "text/plain": [
       "3"
      ]
     },
     "execution_count": 27,
     "metadata": {},
     "output_type": "execute_result"
    }
   ],
   "source": [
    "def mysum(num1,num2):\n",
    "    num=num1+num2\n",
    "    return num\n",
    "mysum(1,2)"
   ]
  },
  {
   "cell_type": "markdown",
   "metadata": {},
   "source": [
    "通过上面的学习，可以知道通过return语句返回值。\n",
    "\n",
    "不带参数值的 return 语句返回 None。\n",
    "\n",
    "函数可以返回多个值。 该函数其实只返回了一个对象，也就是一个元组，最后该元组会被拆包到各个结果变量中。"
   ]
  },
  {
   "cell_type": "code",
   "execution_count": 28,
   "metadata": {},
   "outputs": [
    {
     "data": {
      "text/plain": [
       "5"
      ]
     },
     "execution_count": 28,
     "metadata": {},
     "output_type": "execute_result"
    },
    {
     "data": {
      "text/plain": [
       "6"
      ]
     },
     "execution_count": 28,
     "metadata": {},
     "output_type": "execute_result"
    },
    {
     "data": {
      "text/plain": [
       "7"
      ]
     },
     "execution_count": 28,
     "metadata": {},
     "output_type": "execute_result"
    }
   ],
   "source": [
    "def f():\n",
    "    a = 5\n",
    "    b = 6\n",
    "    c = 7\n",
    "    return a, b, c\n",
    "\n",
    "a, b, c = f()\n",
    "a\n",
    "b\n",
    "c"
   ]
  },
  {
   "cell_type": "markdown",
   "metadata": {},
   "source": [
    "默认参数"
   ]
  },
  {
   "cell_type": "code",
   "execution_count": 29,
   "metadata": {},
   "outputs": [
    {
     "data": {
      "text/plain": [
       "100"
      ]
     },
     "execution_count": 29,
     "metadata": {},
     "output_type": "execute_result"
    }
   ],
   "source": [
    "def mysum(num1=0,num2=0):\n",
    "    num=num1+num2\n",
    "    return num\n",
    "mysum(num2=100)"
   ]
  },
  {
   "cell_type": "markdown",
   "metadata": {},
   "source": [
    "匿名函数"
   ]
  },
  {
   "cell_type": "code",
   "execution_count": 30,
   "metadata": {},
   "outputs": [
    {
     "data": {
      "text/plain": [
       "[1, 4, 9, 16]"
      ]
     },
     "execution_count": 30,
     "metadata": {},
     "output_type": "execute_result"
    }
   ],
   "source": [
    "list(map(lambda x: x * x, [1, 2, 3, 4]))"
   ]
  },
  {
   "cell_type": "markdown",
   "metadata": {},
   "source": [
    "此外还有\n",
    "\n",
    "- 作用域\n",
    "- 闭包\n",
    "- 装饰器"
   ]
  },
  {
   "cell_type": "markdown",
   "metadata": {},
   "source": [
    "# 面向对象编程"
   ]
  },
  {
   "cell_type": "markdown",
   "metadata": {},
   "source": [
    "Python中的所有事物都是以对象形式存在，从简单的数值类型，到复杂的代码模块，都是对象。\n",
    "\n",
    "同一个类（class）的对象具有相同的属性和方法。\n",
    "\n",
    "对象实现了属性和方法的封装，是一种数据抽象机制。\n",
    "\n",
    "面向对象三个特点：\n",
    "\n",
    "- 继承\n",
    "- 多态\n",
    "- 封装性\n",
    "\n",
    "平时的分析场景不需要多少面向对象编程的地方，简单使用即可。属性+方法。"
   ]
  },
  {
   "cell_type": "markdown",
   "metadata": {},
   "source": [
    "下面举一个例子，学生类型，和博士生子类型。"
   ]
  },
  {
   "cell_type": "code",
   "execution_count": 31,
   "metadata": {},
   "outputs": [],
   "source": [
    "class Student:\n",
    "    def __init__(self, id, score):\n",
    "        self.id = id\n",
    "        self.score = score\n",
    "    def pressure(self):\n",
    "        if self.score>80:\n",
    "            print(\"还不错\") \n",
    "        else:\n",
    "            print(\"需要加油\")\n",
    "\n",
    "class Phd(Student):\n",
    "    def __init__(self, id, score, paper):\n",
    "        Student.__init__(self, id, score)  \n",
    "        # 或super().__init__(id, score)\n",
    "        self.paper = paper\n",
    "        \n",
    "    def pressure(self):\n",
    "        if self.score>60:\n",
    "            print(\"还不错\") \n",
    "        else:\n",
    "            print(\"需要加油\")\n",
    "        \n",
    "    def pressure_paper(self,number):\n",
    "        if self.paper==\"A\" and number>=1:\n",
    "            return f\"{self.id}发了{self.paper}刊共计{number}篇，可以参加预答辩了\"\n",
    "        elif self.paper==\"B\" and number>=2:\n",
    "            return f\"{self.id}发了{self.paper}刊共计{number}篇，可以参加预答辩了\"\n",
    "        else:\n",
    "            return f\"{self.id}发了{self.paper}刊共计{number}篇，尚未达到预答辩条件\""
   ]
  },
  {
   "cell_type": "code",
   "execution_count": 32,
   "metadata": {},
   "outputs": [
    {
     "data": {
      "text/plain": [
       "'2018001'"
      ]
     },
     "execution_count": 32,
     "metadata": {},
     "output_type": "execute_result"
    },
    {
     "data": {
      "text/plain": [
       "81"
      ]
     },
     "execution_count": 32,
     "metadata": {},
     "output_type": "execute_result"
    },
    {
     "name": "stdout",
     "output_type": "stream",
     "text": [
      "还不错\n"
     ]
    }
   ],
   "source": [
    "zhang3=Student(\"2018001\",81)\n",
    "zhang3.id\n",
    "zhang3.score\n",
    "zhang3.pressure()"
   ]
  },
  {
   "cell_type": "code",
   "execution_count": 33,
   "metadata": {},
   "outputs": [
    {
     "data": {
      "text/plain": [
       "'2018002'"
      ]
     },
     "execution_count": 33,
     "metadata": {},
     "output_type": "execute_result"
    },
    {
     "data": {
      "text/plain": [
       "61"
      ]
     },
     "execution_count": 33,
     "metadata": {},
     "output_type": "execute_result"
    },
    {
     "data": {
      "text/plain": [
       "'B'"
      ]
     },
     "execution_count": 33,
     "metadata": {},
     "output_type": "execute_result"
    },
    {
     "name": "stdout",
     "output_type": "stream",
     "text": [
      "还不错\n"
     ]
    },
    {
     "data": {
      "text/plain": [
       "'2018002发了B刊共计2篇，可以参加预答辩了'"
      ]
     },
     "execution_count": 33,
     "metadata": {},
     "output_type": "execute_result"
    }
   ],
   "source": [
    "li4=Phd(\"2018002\",61,\"B\")\n",
    "li4.id\n",
    "li4.score\n",
    "li4.paper\n",
    "li4.pressure()\n",
    "li4.pressure_paper(2)"
   ]
  },
  {
   "cell_type": "markdown",
   "metadata": {},
   "source": [
    "# 数据读写"
   ]
  },
  {
   "cell_type": "markdown",
   "metadata": {},
   "source": [
    "## 简单输入和输出"
   ]
  },
  {
   "cell_type": "code",
   "execution_count": 34,
   "metadata": {},
   "outputs": [
    {
     "name": "stdin",
     "output_type": "stream",
     "text": [
      "请输入你的名字 cheng jun\n"
     ]
    }
   ],
   "source": [
    "use_name=input(\"请输入你的名字\")"
   ]
  },
  {
   "cell_type": "code",
   "execution_count": 35,
   "metadata": {},
   "outputs": [
    {
     "data": {
      "text/plain": [
       "'cheng jun'"
      ]
     },
     "execution_count": 35,
     "metadata": {},
     "output_type": "execute_result"
    }
   ],
   "source": [
    "use_name"
   ]
  },
  {
   "cell_type": "markdown",
   "metadata": {},
   "source": [
    "print(v1,v2,v3)打印各个变量"
   ]
  },
  {
   "cell_type": "code",
   "execution_count": 36,
   "metadata": {},
   "outputs": [
    {
     "name": "stdout",
     "output_type": "stream",
     "text": [
      "打印 各个变量\n"
     ]
    }
   ],
   "source": [
    "print(\"打印\",\"各个变量\")"
   ]
  },
  {
   "cell_type": "markdown",
   "metadata": {},
   "source": [
    "## 基础IO\n",
    "\n",
    "- open\n",
    "- read或者write\n",
    "- close\n",
    "\n",
    "由于文件读写时都有可能产生IOError，所以还要借助try函数。\n",
    "\n",
    "```python\n",
    "try:\n",
    "    f = open('Python-Data-Science/file.txt', 'r')\n",
    "    print(f.read())\n",
    "finally:\n",
    "    if f:\n",
    "        f.close()\n",
    "```\n",
    "这句话就可以保证无论是否出错都能正确地关闭文件。\n",
    "\n",
    "这样太麻烦。所以就引出with语句。\n",
    "```python\n",
    "with open('Python-Data-Science/file.txt', 'r', encoding='gbk') as f:\n",
    "    print(f.read())\n",
    "```\n",
    "\n",
    "写文件和读文件是一样的，唯一区别是调用open()函数时的参数不同：\n",
    "\n",
    "- 传入标识符`r`或者`rb`表示写文本文件或写二进制文件\n",
    "- 传入标识符`w`或者`wb`表示写文本文件或写二进制文件\n",
    "\n",
    "- 在open()函数传入encoding参数，将字符串自动转换成指定编码\n",
    "- 以'w'模式写入文件时，如果文件已存在，会直接覆盖已有文件\n",
    "- 以'a'模式写入文件时，以追加（append）模式写入"
   ]
  },
  {
   "cell_type": "markdown",
   "metadata": {},
   "source": [
    "## csv\n",
    "这个需要csv包，或者是pandas"
   ]
  },
  {
   "cell_type": "markdown",
   "metadata": {},
   "source": [
    "## 二进制文件\n",
    "要读取二进制文件，比如图片、视频等等，用`rb`模式打开文件即可，写入二进制文件，用`wb`即可。\n",
    "```python\n",
    "f = open('Python-Data-Science/image/lambda.png', 'rb')\n",
    "f.read()[0:10]\n",
    "```"
   ]
  },
  {
   "cell_type": "markdown",
   "metadata": {},
   "source": [
    "# 文本处理\n",
    "\n",
    "常见四把斧子。\n",
    "\n",
    "- Python的字符串属性函数\n",
    "- Python的string模块\n",
    "- re\n",
    "- 其他"
   ]
  },
  {
   "cell_type": "markdown",
   "metadata": {},
   "source": [
    "# 异常处理\n",
    "\n",
    "Python在builtins模块内置了常见的异常，无需特别导入，直接就可使用。"
   ]
  },
  {
   "cell_type": "code",
   "execution_count": 37,
   "metadata": {},
   "outputs": [
    {
     "name": "stdout",
     "output_type": "stream",
     "text": [
      "division by zero\n",
      "运行结束。本语句一定会运行。\n"
     ]
    }
   ],
   "source": [
    "try:\n",
    "    a = 1 / 0\n",
    "except ZeroDivisionError as e:\n",
    "    print(e)\n",
    "else:\n",
    "    print(\"没有错误\")\n",
    "finally:\n",
    "    print(\"运行结束。本语句一定会运行。\")"
   ]
  },
  {
   "cell_type": "markdown",
   "metadata": {},
   "source": [
    "通用异常：Exception\n",
    "\n",
    "在Python的异常中，有一个通用异常：Exception，它可以捕获任意异常。\n"
   ]
  },
  {
   "cell_type": "code",
   "execution_count": 38,
   "metadata": {},
   "outputs": [
    {
     "name": "stdout",
     "output_type": "stream",
     "text": [
      "我去，又出错了。\n",
      "错误提示信息： division by zero 。\n"
     ]
    }
   ],
   "source": [
    "try:\n",
    "    print(1/0)\n",
    "except Exception as e:\n",
    "    print(\"我去，又出错了。\\n错误提示信息：\", e, \"。\")"
   ]
  },
  {
   "cell_type": "markdown",
   "metadata": {},
   "source": [
    "# 调试与测试"
   ]
  },
  {
   "cell_type": "markdown",
   "metadata": {},
   "source": [
    "## 调试\n",
    "- print\n",
    "- assert\n",
    "- logging\n",
    "- pdb\n",
    "- IDE"
   ]
  },
  {
   "cell_type": "markdown",
   "metadata": {},
   "source": [
    "asert会对后面的表达式进行判断，如果表达式为True，那就什么都不做，程序接着往下走；如果False，那么就会弹出异常。"
   ]
  },
  {
   "cell_type": "code",
   "execution_count": 39,
   "metadata": {},
   "outputs": [],
   "source": [
    "def myfun(s):\n",
    "    assert type(s)==int\n",
    "    return s/2"
   ]
  },
  {
   "cell_type": "code",
   "execution_count": 40,
   "metadata": {},
   "outputs": [
    {
     "data": {
      "text/plain": [
       "9.0"
      ]
     },
     "execution_count": 40,
     "metadata": {},
     "output_type": "execute_result"
    }
   ],
   "source": [
    "myfun(18)  # 正常运行"
   ]
  },
  {
   "cell_type": "code",
   "execution_count": 41,
   "metadata": {},
   "outputs": [
    {
     "ename": "AssertionError",
     "evalue": "",
     "output_type": "error",
     "traceback": [
      "\u001b[1;31m---------------------------------------------------------------------------\u001b[0m",
      "\u001b[1;31mAssertionError\u001b[0m                            Traceback (most recent call last)",
      "\u001b[1;32m<ipython-input-41-28fb6113b9bb>\u001b[0m in \u001b[0;36m<module>\u001b[1;34m()\u001b[0m\n\u001b[1;32m----> 1\u001b[1;33m \u001b[0mmyfun\u001b[0m\u001b[1;33m(\u001b[0m\u001b[1;36m18.0\u001b[0m\u001b[1;33m)\u001b[0m  \u001b[1;31m# 触发错误\u001b[0m\u001b[1;33m\u001b[0m\u001b[0m\n\u001b[0m",
      "\u001b[1;32m<ipython-input-39-1715a7599229>\u001b[0m in \u001b[0;36mmyfun\u001b[1;34m(s)\u001b[0m\n\u001b[0;32m      1\u001b[0m \u001b[1;32mdef\u001b[0m \u001b[0mmyfun\u001b[0m\u001b[1;33m(\u001b[0m\u001b[0ms\u001b[0m\u001b[1;33m)\u001b[0m\u001b[1;33m:\u001b[0m\u001b[1;33m\u001b[0m\u001b[0m\n\u001b[1;32m----> 2\u001b[1;33m     \u001b[1;32massert\u001b[0m \u001b[0mtype\u001b[0m\u001b[1;33m(\u001b[0m\u001b[0ms\u001b[0m\u001b[1;33m)\u001b[0m\u001b[1;33m==\u001b[0m\u001b[0mint\u001b[0m\u001b[1;33m\u001b[0m\u001b[0m\n\u001b[0m\u001b[0;32m      3\u001b[0m     \u001b[1;32mreturn\u001b[0m \u001b[0ms\u001b[0m\u001b[1;33m/\u001b[0m\u001b[1;36m2\u001b[0m\u001b[1;33m\u001b[0m\u001b[0m\n",
      "\u001b[1;31mAssertionError\u001b[0m: "
     ]
    }
   ],
   "source": [
    "myfun(18.0)  # 触发错误"
   ]
  },
  {
   "cell_type": "markdown",
   "metadata": {},
   "source": [
    "## 性能测试\n",
    "Python提供timeit来测试性能。\n",
    "\n",
    "profile 和 pstats 模块提供了针对更大代码块的性能测试。"
   ]
  },
  {
   "cell_type": "code",
   "execution_count": 42,
   "metadata": {},
   "outputs": [],
   "source": [
    "from timeit import timeit\n",
    "\n",
    "def myfun():\n",
    "    [i for i in range(1000000) if i%3==0]"
   ]
  },
  {
   "cell_type": "markdown",
   "metadata": {},
   "source": [
    "timeit(函数名_字符串，运行环境_字符串，number=运行次数)"
   ]
  },
  {
   "cell_type": "code",
   "execution_count": 44,
   "metadata": {},
   "outputs": [
    {
     "data": {
      "text/plain": [
       "0.13829108199999496"
      ]
     },
     "execution_count": 44,
     "metadata": {},
     "output_type": "execute_result"
    }
   ],
   "source": [
    "timeit('myfun()', 'from __main__ import myfun', number=2)"
   ]
  },
  {
   "cell_type": "code",
   "execution_count": 45,
   "metadata": {},
   "outputs": [
    {
     "data": {
      "text/plain": [
       "0.13907842400001869"
      ]
     },
     "execution_count": 45,
     "metadata": {},
     "output_type": "execute_result"
    }
   ],
   "source": [
    "timeit('[i for i in range(1000000) if i%3==0]', number=2)"
   ]
  },
  {
   "cell_type": "code",
   "execution_count": 46,
   "metadata": {},
   "outputs": [
    {
     "name": "stdout",
     "output_type": "stream",
     "text": [
      "Wall time: 62.5 ms\n"
     ]
    }
   ],
   "source": [
    "%time myfun()"
   ]
  },
  {
   "cell_type": "markdown",
   "metadata": {},
   "source": [
    "此外还可以使用repeat方法。\n",
    "```Python\n",
    "from timeit import repeat\n",
    "pass\n",
    "repeat('func()', 'from __main__ import func', number=100, repeat=5)\n",
    "```"
   ]
  },
  {
   "cell_type": "markdown",
   "metadata": {},
   "source": [
    "## 单元测试\n",
    "做探索性数据分析的时候很少做单元测试。\n",
    "\n",
    "跳过。"
   ]
  },
  {
   "cell_type": "markdown",
   "metadata": {},
   "source": [
    "# 模块与包"
   ]
  },
  {
   "cell_type": "markdown",
   "metadata": {},
   "source": [
    "## 模块"
   ]
  },
  {
   "cell_type": "markdown",
   "metadata": {},
   "source": [
    "### 导入\n",
    "模块主要是以下导入方式。\n",
    "```Python\n",
    "import xx.xx\n",
    "\n",
    "from xx.xx import xx\n",
    "\n",
    "# 给导入的对象重命名\n",
    "from xx.xx import xx as newname\n",
    "\n",
    "# 将对象内的所有内容全部导入，容易发生命名冲突，慎用\n",
    "from xx.xx import *\n",
    "```\n",
    "\n",
    "在导入的时候，需要提供导入对象的绝对路径，也就是“最顶层的包名.次一级包名.模块名.类名.函数名”。\n",
    "\n",
    "对于xx.xx，想导入到哪个级别，取决于自己需要。\n",
    "\n",
    "标准库，直接import 模块名，例如`import os`。"
   ]
  },
  {
   "cell_type": "markdown",
   "metadata": {},
   "source": [
    "### 主模块和非主模块\n",
    "\n",
    "如果一个模块被直接使用，而没有被别人调用，称这个模块为主模块。 如果一个模块被别人调用，称这个模块为非主模块。\n",
    "\n",
    "__name__属性值是一个变量，且这个变量是系统给出的。利用这个变量可以判断一个模块是否是主模块。如果一个属性的值是 __main__ ,那么就说明这个模块是主模块。\n"
   ]
  },
  {
   "cell_type": "markdown",
   "metadata": {},
   "source": [
    "```python\n",
    "if __name__ == '__main__':\n",
    "    main()\n",
    "```\n",
    "上面的代码很常见。\n",
    "\n",
    "在同一目录建立以下代码。\n",
    "\n",
    "```python\n",
    "def myfun():\n",
    "    print(__name__)\n",
    "\n",
    "if __name__=='__main__':\n",
    "    myfun()\n",
    "```\n",
    "\n",
    "上述代码运行结果：\n",
    "```python\n",
    "[Running] python \"f:\\testmain.py\"\n",
    "__main__\n",
    "```\n",
    "\n",
    "```python\n",
    "import testmain\n",
    "\n",
    "testmain.myfun()\n",
    "```\n",
    "\n",
    "上述代码运行结果：\n",
    "\n",
    "```python\n",
    "[Running] python \"test.py\"\n",
    "testmain\n",
    "```\n",
    "\n",
    "testmain是包的名字testmain。\n",
    "\n",
    "- `if __name__ == '__main__'`自己调用时`__name__`为`'__main__'`，条件成立，执行if语句中函数\n",
    "\n",
    "- `if __name__ == '__main__'`从别的文件调用时`__name__`为'调用的文件名'，if条件不成立，则不执行。"
   ]
  },
  {
   "cell_type": "markdown",
   "metadata": {},
   "source": [
    "## 包\n",
    "\n",
    "包是用以组织模块的另一种层次结构。\n",
    "\n",
    "包是使用包含文件`__init__.py`的目录实现的。"
   ]
  },
  {
   "cell_type": "markdown",
   "metadata": {
    "toc-hr-collapsed": true
   },
   "source": [
    "## pip软件包管理\n",
    "\n",
    "### 安装\n",
    "```Python\n",
    "pip install packageName 下载并安装最新的版本\n",
    "pip install packageName==1.0.0下载并安装指定版本\n",
    "pip install packageName>=1.0.0 下载并安装至少某个版本以上的版本的包\n",
    "pip install url #从指定网址资源安装\n",
    "pip install path #指定本地位置安装\n",
    "pip install --find-links=url 从指定url下载安装\n",
    "pip install --find-links=path 从指定path下载安装\n",
    "pip install --upgrade packageName 更新一个已经安装过的过期模块\n",
    "```\n",
    "\n",
    "同时安装多个包：python -m pip install --user numpy scipy matplotlib ipython jupyter pandas sympy nose\n",
    "\n",
    "提示安转时缺失包：python –m pip install qtconsole\n",
    "\n",
    "在Win10 的ps界面上使用pip需要管理者权限，或者是在命令后面加上`--user`。\n",
    "\n",
    "### 卸载\n",
    "```\n",
    "pip uninstall <packageName>\n",
    "```\n",
    "\n",
    "### 查看模块信息\n",
    "```\n",
    "pip show <packageName>\n",
    "```\n",
    "\n",
    "查看pip管理了哪些模块\n",
    "```\n",
    "pip list -o  列示过期的包\n",
    "pip list -u  列示可以更新到最新包的信息\n",
    "```\n",
    "\n",
    "pip升级自己\n",
    "```\n",
    "python -m pip install --upgrade pip\n",
    "```\n",
    "\n",
    "查看pip版本：\n",
    "```powershell\n",
    "PS C:\\Users\\cheng> pip -V\n",
    "pip 18.0\n",
    "```\n",
    "此外，pip安装在本地有比较大的缓存文件，可以手动检测并删除。\n",
    "\n",
    "除了匹配管理包，还可以使用conda。\n",
    "\n",
    "\n",
    "## pypi镜像\n",
    "https://mirrors.tuna.tsinghua.edu.cn/help/pypi/\n",
    "\n",
    "pypi 镜像每 5 分钟同步一次。\n",
    "\n",
    "临时使用\n",
    "\n",
    "```\n",
    "pip install -i https://pypi.tuna.tsinghua.edu.cn/simple some-package\n",
    "```\n",
    "\n",
    "长久使用\n",
    "\n",
    "找个地方建立pip.ini文件，如`C:\\Users\\Cheng\\pip\\pip.ini`，文件内容如下：\n",
    "\n",
    "```\n",
    "[global]\n",
    "index-url = https://pypi.tuna.tsinghua.edu.cn/simple\n",
    "```\n",
    "然后把`C:\\Users\\Cheng\\pip\\pip.ini`加入到系统环境变量的`Path`中去。"
   ]
  },
  {
   "cell_type": "markdown",
   "metadata": {},
   "source": [
    "# 杂七杂八"
   ]
  },
  {
   "cell_type": "markdown",
   "metadata": {},
   "source": [
    "## 三个常用的函数\n",
    "- help\n",
    "- type\n",
    "- dir"
   ]
  },
  {
   "cell_type": "code",
   "execution_count": 47,
   "metadata": {},
   "outputs": [
    {
     "name": "stdout",
     "output_type": "stream",
     "text": [
      "Help on built-in function dir in module builtins:\n",
      "\n",
      "dir(...)\n",
      "    dir([object]) -> list of strings\n",
      "    \n",
      "    If called without an argument, return the names in the current scope.\n",
      "    Else, return an alphabetized list of names comprising (some of) the attributes\n",
      "    of the given object, and of attributes reachable from it.\n",
      "    If the object supplies a method named __dir__, it will be used; otherwise\n",
      "    the default dir() logic is used and returns:\n",
      "      for a module object: the module's attributes.\n",
      "      for a class object:  its attributes, and recursively the attributes\n",
      "        of its bases.\n",
      "      for any other object: its attributes, its class's attributes, and\n",
      "        recursively the attributes of its class's base classes.\n",
      "\n"
     ]
    }
   ],
   "source": [
    "help(\"dir\")"
   ]
  },
  {
   "cell_type": "code",
   "execution_count": 48,
   "metadata": {},
   "outputs": [
    {
     "data": {
      "text/plain": [
       "int"
      ]
     },
     "execution_count": 48,
     "metadata": {},
     "output_type": "execute_result"
    }
   ],
   "source": [
    "type(108)"
   ]
  },
  {
   "cell_type": "code",
   "execution_count": 49,
   "metadata": {},
   "outputs": [
    {
     "data": {
      "text/plain": [
       "['insert', 'pop', 'remove', 'reverse', 'sort']"
      ]
     },
     "execution_count": 49,
     "metadata": {},
     "output_type": "execute_result"
    }
   ],
   "source": [
    "a=[1,2,3]\n",
    "dir(a)[-5::]"
   ]
  },
  {
   "cell_type": "markdown",
   "metadata": {},
   "source": [
    "## 类型提示"
   ]
  },
  {
   "cell_type": "code",
   "execution_count": 50,
   "metadata": {},
   "outputs": [],
   "source": [
    "a: int =99\n",
    "b: bool = True\n",
    "f: float = 1.1\n",
    "s: str = \"abc\""
   ]
  },
  {
   "cell_type": "markdown",
   "metadata": {},
   "source": [
    "复杂的类型和注解，需要引入标准库typing。"
   ]
  },
  {
   "cell_type": "code",
   "execution_count": 51,
   "metadata": {},
   "outputs": [
    {
     "data": {
      "text/plain": [
       "[10, 50, 80]"
      ]
     },
     "execution_count": 51,
     "metadata": {},
     "output_type": "execute_result"
    }
   ],
   "source": [
    "import typing\n",
    "\n",
    "def myfun(lst: typing.List[int]) -> typing.List[int]:\n",
    "    lst = [i*10 for i in lst]\n",
    "    return lst\n",
    "\n",
    "myfun([1,5,8])"
   ]
  },
  {
   "cell_type": "markdown",
   "metadata": {},
   "source": [
    "## 关键字"
   ]
  },
  {
   "cell_type": "code",
   "execution_count": 52,
   "metadata": {},
   "outputs": [
    {
     "data": {
      "text/plain": [
       "35"
      ]
     },
     "execution_count": 52,
     "metadata": {},
     "output_type": "execute_result"
    },
    {
     "data": {
      "text/plain": [
       "['False',\n",
       " 'None',\n",
       " 'True',\n",
       " 'and',\n",
       " 'as',\n",
       " 'assert',\n",
       " 'async',\n",
       " 'await',\n",
       " 'break',\n",
       " 'class',\n",
       " 'continue',\n",
       " 'def',\n",
       " 'del',\n",
       " 'elif',\n",
       " 'else',\n",
       " 'except',\n",
       " 'finally',\n",
       " 'for',\n",
       " 'from',\n",
       " 'global',\n",
       " 'if',\n",
       " 'import',\n",
       " 'in',\n",
       " 'is',\n",
       " 'lambda',\n",
       " 'nonlocal',\n",
       " 'not',\n",
       " 'or',\n",
       " 'pass',\n",
       " 'raise',\n",
       " 'return',\n",
       " 'try',\n",
       " 'while',\n",
       " 'with',\n",
       " 'yield']"
      ]
     },
     "execution_count": 52,
     "metadata": {},
     "output_type": "execute_result"
    }
   ],
   "source": [
    "import keyword\n",
    "len(keyword.kwlist)\n",
    "keyword.kwlist"
   ]
  },
  {
   "cell_type": "markdown",
   "metadata": {},
   "source": [
    "## 内置函数\n",
    "\n",
    "在启动Python解释器的时候，内置函数就已经导入到内存当中供我们使用。"
   ]
  },
  {
   "cell_type": "code",
   "execution_count": 53,
   "metadata": {},
   "outputs": [
    {
     "data": {
      "text/plain": [
       "['ArithmeticError', 'AssertionError', 'AttributeError']"
      ]
     },
     "execution_count": 53,
     "metadata": {},
     "output_type": "execute_result"
    }
   ],
   "source": [
    "dir(__builtins__)[0:3]"
   ]
  },
  {
   "cell_type": "code",
   "execution_count": 54,
   "metadata": {},
   "outputs": [
    {
     "data": {
      "text/plain": [
       "154"
      ]
     },
     "execution_count": 54,
     "metadata": {},
     "output_type": "execute_result"
    }
   ],
   "source": [
    "len(dir(__builtins__))"
   ]
  },
  {
   "cell_type": "markdown",
   "metadata": {},
   "source": [
    "## 小整数对象池\n",
    "\n",
    "Python初始化的时候会自动建立一个小整数对象池，范围是-5到256。\n",
    "\n",
    "例如123，即使我们在程序里没有创建它，其实在Python后台已经悄悄为我们创建了。"
   ]
  },
  {
   "cell_type": "code",
   "execution_count": 55,
   "metadata": {},
   "outputs": [
    {
     "data": {
      "text/plain": [
       "True"
      ]
     },
     "execution_count": 55,
     "metadata": {},
     "output_type": "execute_result"
    }
   ],
   "source": [
    "a=123\n",
    "id(a)==id(123)"
   ]
  },
  {
   "cell_type": "code",
   "execution_count": 56,
   "metadata": {},
   "outputs": [
    {
     "data": {
      "text/plain": [
       "False"
      ]
     },
     "execution_count": 56,
     "metadata": {},
     "output_type": "execute_result"
    }
   ],
   "source": [
    "a=1230\n",
    "id(a)==id(1230)"
   ]
  },
  {
   "cell_type": "markdown",
   "metadata": {},
   "source": [
    "## is和==\n",
    "\n",
    "- is是比较两个引用是否指向了同一个对象（引用比较）。\n",
    "\n",
    "- ==是比较两个对象是否相等。"
   ]
  },
  {
   "cell_type": "markdown",
   "metadata": {},
   "source": [
    "# 未处理知识点\n",
    "- 线程\n",
    "- 进程\n",
    "\n",
    "这些知识点，因为自己平时用的少，学得也是一般。跳过。"
   ]
  },
  {
   "cell_type": "markdown",
   "metadata": {},
   "source": [
    "# 后记\n",
    "在刚学习Python就开始记笔记，因为那个时候Visual Basic和C长久不用，具体知识点基本遗忘。Python是在这样的背景下，因为有现实的需求，而重拾编程，开始学习的新语言。\n",
    "\n",
    "一开始的笔记繁杂，几经删改，最后发现没有必要做一个cookbook式的笔记。简单，有体系，方便速览。有事就搜索。\n",
    "\n",
    "后面有需要，并且有空的时候会对这份笔记进行修订和更新。"
   ]
  }
 ],
 "metadata": {
  "kernelspec": {
   "display_name": "Python 3",
   "language": "python",
   "name": "python3"
  },
  "language_info": {
   "codemirror_mode": {
    "name": "ipython",
    "version": 3
   },
   "file_extension": ".py",
   "mimetype": "text/x-python",
   "name": "python",
   "nbconvert_exporter": "python",
   "pygments_lexer": "ipython3",
   "version": "3.7.0"
  }
 },
 "nbformat": 4,
 "nbformat_minor": 2
}
